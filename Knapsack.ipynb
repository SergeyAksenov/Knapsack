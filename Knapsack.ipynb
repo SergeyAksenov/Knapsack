{
 "cells": [
  {
   "cell_type": "markdown",
   "metadata": {
    "collapsed": false
   },
   "source": [
    "# Аксенов Сергей, группа 394, проект 33.        "
   ]
  },
  {
   "cell_type": "markdown",
   "metadata": {},
   "source": [
    "### Постановка задачи о рюкзаке."
   ]
  },
  {
   "cell_type": "markdown",
   "metadata": {},
   "source": [
    "Дано $n$ предметов с весами $w_1,..., w_n$ ∈ $\\mathbb{N}$ и стоимостями $c_1,...,c_n$ ∈ $\\mathbb{N}$, а также максимально допустимый вес $C$"
   ]
  },
  {
   "cell_type": "markdown",
   "metadata": {},
   "source": [
    "Требуется найти такое множество $I ⊆ [1..n]$, что $\\sum_{i∈I} w_i ≤ С$ и\n",
    "$\\sum_{i∈I} c_i$ максимально."
   ]
  },
  {
   "cell_type": "markdown",
   "metadata": {},
   "source": [
    "В данном случае для упрощения реализации будем искать только значение $\\sum_{i∈I} c_i$, т.к. процедура восстановления ответа, очевидно, не повлияет на полиномиальность алгоритма."
   ]
  },
  {
   "cell_type": "markdown",
   "metadata": {},
   "source": [
    "### Доказательство NP-полноты."
   ]
  },
  {
   "cell_type": "markdown",
   "metadata": {},
   "source": [
    "Переформулируем нашу задачу как задачу распознавания.\n",
    "Пусть на вход также подается число $p_{min}$ - минимальная стоимость. Требуется определить, можно ли выбрать такое множество $I ⊆ [1..n]$, что $\\sum_{i∈I} w_i ≤ W$ и\n",
    "$\\sum_{i∈I} c_i \\geq p_{min}$."
   ]
  },
  {
   "cell_type": "markdown",
   "metadata": {},
   "source": [
    "Принадлежность задачи к классу NP очевидна, поскольку в качестве сертификата достаточно предъявить набор $I$.\n",
    "Докажем NP-трудность, сведя к нашей задаче задачу о сумме подмножества.\n",
    "Построим функцию $f:(S,s) \\to (P,c,p)$ - функция, осуществляющуе сведение. Она будет устроена так:\n",
    "\n",
    "$f(S,s) = ((S,S),s,s)$\n",
    "\n",
    "То есть, для каждого числа $q \\in S$ создадим предмет с весом $q$ и стоимостью  $q$. А значения $C$ и $p_{min}$ возьмем равными $s$.\n",
    "Очевидно, $f$ ~ работает за полиномиальное от длины входа время.\n",
    "Если исходная задача о сумме подмножества имела решение $S'$, то набор пар предметов с весами, равными числам из $S'$, будет решением задачи о рюкзаке.\n",
    "В обратную сторону - аналогично.\n"
   ]
  },
  {
   "cell_type": "markdown",
   "metadata": {},
   "source": [
    "### Точный псевдополиномиальный алгоритм"
   ]
  },
  {
   "cell_type": "markdown",
   "metadata": {},
   "source": [
    "Обозначим через $v(k,c)$ минимальный объем, необходимый для того, чтобы уложить предметы с номерами, не превосходящими $k ∈ [1..n]$, общей стоимостью не менее $c$.\n",
    "\n",
    "1. Положим $v(0,0) = 0,$  $v(0,p) = ∞, p > 0$\n",
    "\n",
    "2. В цикле по $k$ от 1 до $n$ вычислим $v(k,c)$ для каждого $c$ от $1$ до $\\sum_{i∈[1..n]} c_i$:   \n",
    "      $v(k + 1, c) = min$ { $v(k, c),$  $v(k, c − c_{k+1}) + w_{k+1}$}   \n",
    "\n",
    "3. В качестве ответа вернем $max$ {$c$  |  $v(n,c) ≤ C$}"
   ]
  },
  {
   "cell_type": "code",
   "execution_count": 15,
   "metadata": {
    "collapsed": true
   },
   "outputs": [],
   "source": [
    "INF = 400\n",
    "\n",
    "def pseudopoly_knapsack(weights, costs, capacity):                            #1\n",
    "    S = sum(costs)                                                            #2\n",
    "    N = len(weights)                                                          #3\n",
    "    w = [[0 for p in range(S + 1)] for k in range(N + 1)]                     #4\n",
    "    ret = 0                                                                   #5\n",
    "    for k in range(N):                                                        #6\n",
    "        for p in range(1, S + 1):                                             #7\n",
    "            if (k == 0):                                                      #8\n",
    "                w[k][p] = INF                                                 #9\n",
    "            w[k+1][p] = min(w[k][p], w[k][max(p-costs[k], 0)] + weights[k])   #10\n",
    "            if (k == N - 1 and w[k][p] <= capacity and p > ret):              #11\n",
    "                ret = p                                                       #12\n",
    "    for p in range(1, S + 1):\n",
    "        if w[N][p] <= capacity and p > ret:\n",
    "            ret = p\n",
    "    return ret                                                                #13"
   ]
  },
  {
   "cell_type": "markdown",
   "metadata": {},
   "source": [
    "#### Оценка времени работы\n",
    "Ясно, что время работы приведенного выше алгоритма не превосходит $K n \\sum_{i}c_i \\leq K n^2 P $ для некоторой константы $K$, то есть алгоритм работает за $O(n^2 P)$.\n"
   ]
  },
  {
   "cell_type": "markdown",
   "metadata": {},
   "source": [
    "### Приближенный полиномиальный алгоритм"
   ]
  },
  {
   "cell_type": "markdown",
   "metadata": {},
   "source": [
    "Пусть даны $w_1,..., w_n$,  $c_1,...,c_n$.  P = $max${$p_i$}.\n",
    "\n",
    "Обозначим $A_\\epsilon = \\frac{P}{n(1+\\frac{1}{\\epsilon})}$.\n",
    "\n",
    "Положим $c_i'  = ⌈\\frac {c_i} { A_\\epsilon}⌉$\n",
    "\n",
    "Запустим вышеописанный псевдополиномиальный алгоритм на исходных {$w_i$}, $C$ и полученном наборе {$c_i'$}.\n",
    "\n",
    "\n"
   ]
  },
  {
   "cell_type": "code",
   "execution_count": 5,
   "metadata": {
    "collapsed": true
   },
   "outputs": [],
   "source": [
    "%matplotlib inline\n",
    "import matplotlib.pyplot as plt\n",
    "from numpy.random import randint as rnd\n",
    "import timeit as tm"
   ]
  },
  {
   "cell_type": "code",
   "execution_count": 7,
   "metadata": {
    "collapsed": true
   },
   "outputs": [],
   "source": [
    "def round_up(m, eps):\n",
    "    t = m / eps\n",
    "    return int(t) \n",
    "\n",
    "def approx_knapsack(weights, costs, capacity, eps):\n",
    "    C = max(costs)\n",
    "    N = len(weights)\n",
    "    r = C / ((1.0+1.0/eps)*N)\n",
    "    #print((1.0/eps + 1)*N)\n",
    "    norm_costs = [round_up(x, r) for x in costs]\n",
    "    #print(norm_costs)\n",
    "    return round(pseudopoly_knapsack(weights, norm_costs, capacity) * r) \n",
    "    "
   ]
  },
  {
   "cell_type": "markdown",
   "metadata": {},
   "source": [
    "\n",
    "#### Оценка времени работы\n",
    "Время работы алгоритма не превосходит $n^2 max\\{p_i'\\} ≤ n^3 \\frac{(1 + \\frac {1} {\\epsilon})P}{P} = O(n^3)$"
   ]
  },
  {
   "cell_type": "markdown",
   "metadata": {},
   "source": [
    "### Доказательство качества приближения"
   ]
  },
  {
   "cell_type": "markdown",
   "metadata": {},
   "source": [
    "Таким образом, мы получили полностью полиномиальный приближенный алгоритм. Осталось доказать, что полученный алгоритм дает достаточно хорошее приближение"
   ]
  },
  {
   "cell_type": "markdown",
   "metadata": {},
   "source": [
    "Пусть $R_{\\epsilon}$ — общая стоимость набора предметов, который вернул алгоритм. \n",
    "\n",
    "$R_{opt}$ - общая стоимость предметов в максимальном наборе.\n",
    "\n",
    "Заметим, что $R_{\\epsilon} ≥ R_{opt} − A_{\\epsilon}n$: псевдополиномиальный алгоритм находит точное решение, поэтому отклонение могло появиться только при округлении, однако при округлении могло потеряться не более $1$ на каждом предмете, эта потеря домножается на $A_{\\epsilon}$ при обратном переходе от $p_i′$ к  $p_i$.\n",
    "\n",
    "Кроме того, по условию, $R_{opt} > P$.\n",
    "\n",
    "Тогда $\\frac {R_{\\epsilon}} {R_{opt}} ≥ \\frac {R_{opt}−R_{\\epsilon}} {R_{opt}} = 1 − \\frac {nP} {n R_{opt} (1 + \\frac {1}{\\epsilon})} = \\frac {1} {1 + \\epsilon}$\n",
    "\n",
    "Таким образом, $R_{\\epsilon} ≥ (1 − \\epsilon)R_{opt}$, что и требовалось."
   ]
  },
  {
   "cell_type": "markdown",
   "metadata": {},
   "source": [
    "### Тестирование"
   ]
  },
  {
   "cell_type": "markdown",
   "metadata": {},
   "source": [
    "Для наглядности нарисуем график зависимости времени выполнения от максимальной стоимости предмета при фиксированном количестве предметов."
   ]
  },
  {
   "cell_type": "code",
   "execution_count": 25,
   "metadata": {
    "collapsed": false
   },
   "outputs": [
    {
     "data": {
      "text/plain": [
       "[<matplotlib.lines.Line2D at 0x106cc82b0>]"
      ]
     },
     "execution_count": 25,
     "metadata": {},
     "output_type": "execute_result"
    },
    {
     "data": {
      "image/png": "[encoded data removed]",
      "text/plain": [
       "<matplotlib.figure.Figure at 0x10667e550>"
      ]
     },
     "metadata": {},
     "output_type": "display_data"
    }
   ],
   "source": [
    "def wrapper(func, *args, **kwargs):\n",
    "    def wrapped():\n",
    "        return func(*args, **kwargs)\n",
    "    return wrapped\n",
    "\n",
    "def test_pseudopoly():\n",
    "    \n",
    "    \n",
    "    times = []\n",
    "    sizes = range(10,50)\n",
    "    costs = range (6, 1000)\n",
    "    N = 10\n",
    "    for C in costs:\n",
    "        c = rnd(low = 5, high = C, size = N)\n",
    "        w = rnd(low = 10, high = 40, size = N)\n",
    "        wrf = wrapper(pseudopoly_knapsack, w, c, 100)\n",
    "        times.append(tm.timeit(wrf, number = 1))\n",
    "    return times\n",
    "\n",
    "\n",
    "a = test_pseudopoly()\n",
    "\n",
    "plt.figure()\n",
    "plt.ylabel(\"Running time\").set_rotation(90)\n",
    "plt.title(\"\")\n",
    "plt.plot(range(len(a)), a, lw='1.0')\n",
    "        "
   ]
  },
  {
   "cell_type": "markdown",
   "metadata": {},
   "source": [
    "Несмотря на заметный разброс, в целом видно, что время выполнения растет линейно с ростом $P$. Применив метод экспоненциального сглаживания, построим более \"чистый\" график."
   ]
  },
  {
   "cell_type": "code",
   "execution_count": 30,
   "metadata": {
    "collapsed": false
   },
   "outputs": [
    {
     "data": {
      "text/plain": [
       "[<matplotlib.lines.Line2D at 0x1071c19b0>]"
      ]
     },
     "execution_count": 30,
     "metadata": {},
     "output_type": "execute_result"
    },
    {
     "data": {
      "image/png": "[encoded data removed]",
      "text/plain": [
       "<matplotlib.figure.Figure at 0x106960eb8>"
      ]
     },
     "metadata": {},
     "output_type": "display_data"
    }
   ],
   "source": [
    "plt.plot(range(len(a)), smooth(a, 0.25), lw='1.0')"
   ]
  },
  {
   "cell_type": "code",
   "execution_count": 23,
   "metadata": {
    "collapsed": false
   },
   "outputs": [],
   "source": [
    "def smooth(raw_data, smooth_factor):\n",
    "    ret = [raw_data[0]]\n",
    "    for i in range(1, len(raw_data)):\n",
    "        ret.append(smooth_factor*raw_data[i] + (1-smooth_factor)*ret[i-1])\n",
    "    return ret"
   ]
  },
  {
   "cell_type": "markdown",
   "metadata": {},
   "source": [
    "Построим также график зависимости времени выполнения от максимального значения стоимости для приближенного алгоритма (при фиксированных $\\epsilon$ и $N$)."
   ]
  },
  {
   "cell_type": "code",
   "execution_count": 39,
   "metadata": {
    "collapsed": false
   },
   "outputs": [
    {
     "data": {
      "text/plain": [
       "[<matplotlib.lines.Line2D at 0x1073ffe48>]"
      ]
     },
     "execution_count": 39,
     "metadata": {},
     "output_type": "execute_result"
    },
    {
     "data": {
      "image/png": "[encoded data removed]",
      "text/plain": [
       "<matplotlib.figure.Figure at 0x106c93ba8>"
      ]
     },
     "metadata": {},
     "output_type": "display_data"
    }
   ],
   "source": [
    "def test_approx():\n",
    "    \n",
    "    \n",
    "    times = []\n",
    "    costs = range (20, 1000)\n",
    "    N = 10\n",
    "    for C in costs:\n",
    "        c = rnd(low = 5, high = C, size = N)\n",
    "        w = rnd(low = 10, high = 40, size = N)\n",
    "        wrf = wrapper(approx_knapsack, w, c, 100, 1/10.0)\n",
    "        times.append(tm.timeit(wrf, number = 1))\n",
    "    return times\n",
    "\n",
    "a = test_approx()\n",
    "\n",
    "def smooth(raw_data, smooth_factor):\n",
    "    ret = [raw_data[0]]\n",
    "    for i in range(1, len(raw_data)):\n",
    "        ret.append(smooth_factor*raw_data[i] + (1-smooth_factor)*ret[i-1])\n",
    "    return ret\n",
    "\n",
    "plt.figure()\n",
    "plt.ylabel(\"Running time\").set_rotation(90)\n",
    "plt.title(\"p = \")\n",
    "plt.plot(range(len(a)), smooth(a, 0.6), lw='1.0')"
   ]
  },
  {
   "cell_type": "markdown",
   "metadata": {},
   "source": [
    "Теперь найдем зависимость времени выполнения от $\\frac{1}{\\epsilon}$."
   ]
  },
  {
   "cell_type": "code",
   "execution_count": 35,
   "metadata": {
    "collapsed": false
   },
   "outputs": [
    {
     "data": {
      "text/plain": [
       "[<matplotlib.lines.Line2D at 0x107347940>]"
      ]
     },
     "execution_count": 35,
     "metadata": {},
     "output_type": "execute_result"
    },
    {
     "data": {
      "image/png": "[encoded data removed]",
      "text/plain": [
       "<matplotlib.figure.Figure at 0x107884518>"
      ]
     },
     "metadata": {},
     "output_type": "display_data"
    }
   ],
   "source": [
    "from numpy import *\n",
    "\n",
    "N = 20\n",
    "\n",
    "times = []\n",
    "eps = linspace(0.001, 0.3, 3000)\n",
    "for ep in eps:\n",
    "        c = rnd(low = 10, high = 100, size = N)\n",
    "        w = rnd(low = 10, high = 100, size = N)\n",
    "        wrf = wrapper(approx_knapsack, w, c, 3000, ep)\n",
    "        times.append(tm.timeit(wrf, number = 1))\n",
    "        \n",
    "plt.figure()\n",
    "plt.ylabel(\"Running time\").set_rotation(90)\n",
    "plt.title(\"p = \")\n",
    "plt.plot([1/ep for ep in eps], smooth(times, 0.3), lw='1.0')"
   ]
  },
  {
   "cell_type": "markdown",
   "metadata": {},
   "source": [
    "\n",
    "Из построенных графиков видно, что на протестированныъ данных время работы линейно зависит от $\\frac {1} {\\epsilon}$, что полностью соответсвует нашим ожиданиям."
   ]
  }
 ],
 "metadata": {
  "kernelspec": {
   "display_name": "Python 3",
   "language": "python",
   "name": "python3"
  },
  "language_info": {
   "codemirror_mode": {
    "name": "ipython",
    "version": 3
   },
   "file_extension": ".py",
   "mimetype": "text/x-python",
   "name": "python",
   "nbconvert_exporter": "python",
   "pygments_lexer": "ipython3",
   "version": "3.4.3"
  }
 },
 "nbformat": 4,
 "nbformat_minor": 0
}
